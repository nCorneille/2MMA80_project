{
 "cells": [
  {
   "cell_type": "markdown",
   "id": "ec63f959-9c22-4e45-93dc-b1bee03192cc",
   "metadata": {},
   "source": [
    "# Project: Sign Language Digit Recognition\n",
    "\n",
    "\n",
    "![img](./sign-language-digits-dataset/Examples/example_0.JPG)\n",
    "![img](./sign-language-digits-dataset/Examples/example_1.JPG)\n",
    "![img](./sign-language-digits-dataset/Examples/example_2.JPG)\n",
    "![img](./sign-language-digits-dataset/Examples/example_3.JPG)\n",
    "![img](./sign-language-digits-dataset/Examples/example_4.JPG)\n",
    "![img](./sign-language-digits-dataset/Examples/example_5.JPG)\n",
    "![img](./sign-language-digits-dataset/Examples/example_6.JPG)\n",
    "![img](./sign-language-digits-dataset/Examples/example_7.JPG)\n",
    "![img](./sign-language-digits-dataset/Examples/example_8.JPG)\n",
    "![img](./sign-language-digits-dataset/Examples/example_9.JPG)\n",
    "\n",
    "\n",
    "To cap off the practical part of this course you will be designing and training a neural network that can recognize sign language digits. Sign language contains single hand gestures for the digits 0-9, as illustrated above. \n",
    "\n",
    "This type of problem is perfectly suited for a CNN. To train this network we have a dataset of about 2000 images available from <https://github.com/ardamavi/Sign-Language-Digits-Dataset> that you can find in the `sign-language-digits-dataset` directory.\n",
    "\n",
    "For this project you are expected to make a Jupyter notebook that trains a neural network to identify the digits being shown in the images.\n",
    "You do not need to exceed a certain level of performance but 90% accuracy is easy to achieve with a small CNN. \n",
    "I expect you to be able build a CNN that can classify these images and train/test it.\n",
    "Equally important I expect you to document your solution and report on the outcome.\n",
    "\n",
    "Outside of doing the minimum 1) load data 2) define model 3) train model, you should do an experiment of your choice.\n",
    "\n",
    "\n",
    "\n",
    "## Experiment\n",
    "\n",
    "Choose one of these:\n",
    "\n",
    "- Vary the width/depth\n",
    "- Compare different activation functions\n",
    "- Try data augmentation\n",
    "- Compare different SGD variants\n",
    "- Try different loss functions\n",
    "- Compare different initialization schemes (such as found in [torch.nn.init](https://pytorch.org/docs/stable/nn.init.html))\n",
    "- Use the full sized color images and compare the difference with the grayscale images\n",
    "- Can the network recognized rotated images?\n",
    "- Analyse the evolution of the parameters during training.\n",
    "- ... come up with your own idea, ask me before you commit to it though.\n",
    "\n",
    "Report on your findings.\n",
    "\n",
    "## Grading\n",
    "\n",
    "The deliverable is just the Jupyter notebook.\n",
    "I will run the notebook to verify that it works (in the same `mathnn` environment) and read your documentation and comments.\n",
    "The tutorial notebooks and code snippets below contain most of the code needed to solve this problem so your writing will be important in convicing me that you understand what you are doing.\n",
    "\n",
    "The project is graded /10 with points given for:\n",
    "\n",
    "| Item | Points |\n",
    "|:----------------------------------------------------------------------------------------------------|--------|\n",
    "| Correctly set up the training process with split dataset, batched SGD, etc.                         |   2.0  |\n",
    "| Define and train a neural network that can classify the given images                                |   2.0  |\n",
    "| Document every step you take, <br>others should understand what is happening from the text/comments |   3.0  |\n",
    "| Describe and perform an experiment of your choice, <br>report your results and draw conclusions     |   3.0  |\n"
   ]
  },
  {
   "cell_type": "markdown",
   "id": "66d2a9af-dd6c-4964-86bf-e7f9ab6ad057",
   "metadata": {},
   "source": [
    "## Snippets\n",
    "\n",
    "Here are some code snippets that could be useful in completing the project.\n",
    "\n",
    "__<https://pytorch.org/docs/stable/index.html> is your friend!__\n",
    "\n",
    "### 1. Common imports"
   ]
  },
  {
   "cell_type": "code",
   "execution_count": 1,
   "id": "4e16e6e4-887f-4107-82fb-2bbe26d5aecd",
   "metadata": {},
   "outputs": [],
   "source": [
    " # standard libraries\n",
    "import math, os, time, glob\n",
    "import numpy as np\n",
    "\n",
    "# plotting\n",
    "import matplotlib.pyplot as plt\n",
    "\n",
    "# progress bars\n",
    "from tqdm.notebook import trange, tqdm\n",
    "\n",
    "# PyTorch\n",
    "import torch\n",
    "import torch.nn as nn # lets not write out torch.nn every time\n",
    "import torch.nn.functional as F # functional versions of the modules in torch.nn\n",
    "\n",
    "device = torch.device('cuda') if torch.cuda.is_available() else torch.device('cpu')"
   ]
  },
  {
   "cell_type": "markdown",
   "id": "7e4b0fb5-be33-4ae0-933b-8151bede9c49",
   "metadata": {},
   "source": [
    "### 2. Loading the dataset\n",
    "\n",
    "The sign-language dataset is contained in the `sign-language-digits-dataset` folder. It consists of a bunch of JPGs organized by which digits is being displayed in them. We could load all these images and collect them together in a tensor and build a corresponding label tensor. But the authors of the dataset have handely provided us with saved numpy arrays that already contain all the images converted to grayscale and downsampled to 64x64, so we can just load those and convert them to PyTorch tensors.\n",
    "\n",
    "_Remark_: Using grayscale 64x64 images is sufficient to get good results with the benefit of reducing the computational load. If you want to have a go at the 100x100 color images take a look at [torchvision.datasets.ImageFolder](http://pytorch.org/vision/stable/datasets.html?highlight=imagefolder#torchvision.datasets.ImageFolder)."
   ]
  },
  {
   "cell_type": "code",
   "execution_count": 2,
   "id": "121a19f6-6556-42e8-8af5-e31c6bbc8ed8",
   "metadata": {},
   "outputs": [
    {
     "name": "stdout",
     "output_type": "stream",
     "text": [
      "Shape of X: (2062, 64, 64), shape of Y: (2062, 10)\n",
      "Y[0]=[1. 0. 0. 0. 0. 0. 0. 0. 0. 0.], Y[600]=[0. 0. 0. 0. 1. 0. 0. 0. 0. 0.]\n"
     ]
    }
   ],
   "source": [
    "# Load the stored numpy arrays\n",
    "X = np.load(\"./sign-language-digits-dataset/X.npy\")\n",
    "Y = np.load(\"./sign-language-digits-dataset/Y.npy\")\n",
    "\n",
    "# lets inspect their shape\n",
    "print(f\"Shape of X: {X.shape}, shape of Y: {Y.shape}\")\n",
    "\n",
    "# Looks like we have 2062 samples, the images are 64x64 grayscale\n",
    "# the labels look like they are stored as a probability distribution (a.k.a. one-hot encoding) over the 10 classes:\n",
    "print(f\"Y[0]={Y[0]}, Y[600]={Y[1000]}\")"
   ]
  },
  {
   "cell_type": "markdown",
   "id": "f465a587-6d0b-47e2-964e-66e040286c6e",
   "metadata": {},
   "source": [
    "Having the labels stored as one-hot encodings is not necessarely a problem. However some loss functions (like [torch.nn.functional.cross_entropy](https://pytorch.org/docs/stable/generated/torch.nn.functional.cross_entropy.html?highlight=cross_entropy#torch.nn.functional.cross_entropy)) expect the label to be provided as a natural number indicating the class (i.e. 0-9 in our case). Lets convert the one-hot encoding to class indices."
   ]
  },
  {
   "cell_type": "code",
   "execution_count": 3,
   "id": "e62be6d7-8eef-449b-a751-84e8996c7988",
   "metadata": {},
   "outputs": [
    {
     "name": "stdout",
     "output_type": "stream",
     "text": [
      "Y[0]=0, Y[600]=4\n"
     ]
    }
   ],
   "source": [
    "Y = np.argmax(Y, -1)\n",
    "\n",
    "print(f\"Y[0]={Y[0]}, Y[600]={Y[1000]}\")"
   ]
  },
  {
   "cell_type": "code",
   "execution_count": 4,
   "id": "4e242a7b-9b61-495f-a4de-83a257a56858",
   "metadata": {},
   "outputs": [
    {
     "data": {
      "image/png": "[encoded data removed]",
      "text/plain": [
       "<Figure size 1152x288 with 4 Axes>"
      ]
     },
     "metadata": {
      "needs_background": "light"
     },
     "output_type": "display_data"
    }
   ],
   "source": [
    "# Lets visualize some of the samples\n",
    "show = (100, 600, 1500, 2000)\n",
    "plt.figure(figsize=[4*len(show), 4])\n",
    "\n",
    "for i in range(len(show)):\n",
    "    plt.subplot(1, len(show), i+1)\n",
    "    plt.imshow(X[show[i]], cmap='gray_r')\n",
    "    plt.text(4, 4, f\"{Y[show[i]]}\", va='top' ,color='C1', fontsize=48)\n",
    "    plt.axis(\"off\")\n",
    "    \n",
    "plt.show()"
   ]
  },
  {
   "cell_type": "markdown",
   "id": "d679fc4a-9702-44a4-9156-f282d2be8da5",
   "metadata": {},
   "source": [
    "Finally lets convert the numpy arrays to PyTorch tensors and load them to the correct device. We also add an empty dimension to the X tensor, check the documentation of [torch.nn.Conv2d](https://pytorch.org/docs/stable/generated/torch.nn.Conv2d.html?highlight=conv2d#torch.nn.Conv2d) for why we need to do this."
   ]
  },
  {
   "cell_type": "code",
   "execution_count": 5,
   "id": "72cef778-a992-466d-8814-f1586001b90b",
   "metadata": {},
   "outputs": [
    {
     "name": "stdout",
     "output_type": "stream",
     "text": [
      "torch.Size([2062, 1, 64, 64])\n",
      "torch.Size([2062])\n"
     ]
    }
   ],
   "source": [
    "X = torch.tensor(X).unsqueeze(1).to(device)\n",
    "Y = torch.tensor(Y).to(device)\n",
    "\n",
    "print(X.shape)\n",
    "print(Y.shape)"
   ]
  },
  {
   "cell_type": "markdown",
   "id": "3925701a-86cc-4340-84fb-77dd114ddd0a",
   "metadata": {},
   "source": [
    "### 3. Counting the total number of parameters of a model"
   ]
  },
  {
   "cell_type": "code",
   "execution_count": 6,
   "id": "9c8e88e3-d00b-4737-b0dd-3cc5f3443309",
   "metadata": {},
   "outputs": [
    {
     "name": "stdout",
     "output_type": "stream",
     "text": [
      "The model has 13648 parameters\n"
     ]
    }
   ],
   "source": [
    "model = nn.Sequential(\n",
    "    nn.Conv2d(1, 32, 5),\n",
    "    nn.ReLU(),\n",
    "    nn.Conv2d(32, 16, 5)\n",
    ")\n",
    "\n",
    "total_params = sum(p.numel() for p in model.parameters())\n",
    "\n",
    "print(f\"The model has {total_params} parameters\")"
   ]
  },
  {
   "cell_type": "code",
   "execution_count": 7,
   "id": "53dbfd53-5a2a-4d4f-b3c5-1fc3a1677989",
   "metadata": {},
   "outputs": [
    {
     "name": "stdout",
     "output_type": "stream",
     "text": [
      "0.weight has 800 parameters\n",
      "0.bias has 32 parameters\n",
      "2.weight has 12800 parameters\n",
      "2.bias has 16 parameters\n"
     ]
    }
   ],
   "source": [
    "# loop throught the Parameter tensors and print the number of elements of each.\n",
    "for name, p in model.named_parameters():\n",
    "    print(f\"{name} has {p.numel()} parameters\")"
   ]
  },
  {
   "cell_type": "markdown",
   "id": "9687d47c-86eb-4ec6-b7d7-1e6a46398dd3",
   "metadata": {},
   "source": [
    "### 4. Flattening\n",
    "\n",
    "At some point when classifying an image with an CNN you will want to transition to a fully connected one. You can do this by simply throwing the channel and spacial dimensions together using a [torch.nn.Flatten](https://pytorch.org/docs/stable/generated/torch.nn.Flatten.html?highlight=flatten#torch.nn.Flatten) module,"
   ]
  },
  {
   "cell_type": "code",
   "execution_count": 8,
   "id": "9f89d9c9-a9da-4bf0-b9e4-94a5559b330b",
   "metadata": {},
   "outputs": [
    {
     "name": "stdout",
     "output_type": "stream",
     "text": [
      "Shape of x=torch.Size([4, 8, 10, 10]),  shape of y=torch.Size([4, 800])\n"
     ]
    }
   ],
   "source": [
    "network = nn.Flatten()\n",
    "\n",
    "B = 4 # batchsize\n",
    "C = 8 # channels\n",
    "H = 10 # height\n",
    "W = 10 # width\n",
    "\n",
    "x = torch.rand(B,C,H,W)\n",
    "y = network(x)\n",
    "\n",
    "print(f\"Shape of x={x.shape},  shape of y={y.shape}\")"
   ]
  }
 ],
 "metadata": {
  "kernelspec": {
   "display_name": "Python [conda env:mathnn] *",
   "language": "python",
   "name": "conda-env-mathnn-py"
  },
  "language_info": {
   "codemirror_mode": {
    "name": "ipython",
    "version": 3
   },
   "file_extension": ".py",
   "mimetype": "text/x-python",
   "name": "python",
   "nbconvert_exporter": "python",
   "pygments_lexer": "ipython3",
   "version": "3.7.10"
  }
 },
 "nbformat": 4,
 "nbformat_minor": 5
}
